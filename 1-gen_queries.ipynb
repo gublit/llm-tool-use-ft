{
 "cells": [
  {
   "cell_type": "markdown",
   "id": "195e67bd-f985-4912-aea9-f0aea3f84fee",
   "metadata": {},
   "source": [
    "# Generate User Queries\n",
    "\n",
    "Code authored by: Shaw Talebi"
   ]
  },
  {
   "cell_type": "markdown",
   "id": "db6931dd-adcd-4735-8851-ecff03bb6dbf",
   "metadata": {},
   "source": [
    "### imports"
   ]
  },
  {
   "cell_type": "code",
   "execution_count": 1,
   "id": "4465a267-5136-42cd-9711-3c34f82b4bca",
   "metadata": {},
   "outputs": [],
   "source": [
    "from utils.gen_data import send_openai_request, load_tool_metadata, get_tool_name\n",
    "import pandas as pd\n",
    "import os"
   ]
  },
  {
   "cell_type": "markdown",
   "id": "cd6f6327-665a-4d38-8cb1-ef9b5a14c0a6",
   "metadata": {},
   "source": [
    "### intialize query dict"
   ]
  },
  {
   "cell_type": "code",
   "execution_count": 2,
   "id": "9466cb10-77a9-49f3-819f-eaf0da0a782f",
   "metadata": {},
   "outputs": [],
   "source": [
    "query_dict = {\n",
    "    \"query\": [],\n",
    "    \"query_type\": [],\n",
    "    \"tool_needed\": [],\n",
    "    \"tool_name\": [],\n",
    "}"
   ]
  },
  {
   "cell_type": "markdown",
   "id": "ecea19de-8cf7-4e94-8911-e27d673f7884",
   "metadata": {},
   "source": [
    "### No Tool Queries"
   ]
  },
  {
   "cell_type": "code",
   "execution_count": 3,
   "id": "b5f7b291-2404-4729-8ea7-3cc9265b58d2",
   "metadata": {},
   "outputs": [],
   "source": [
    "# total num queries to generate\n",
    "N = 200\n",
    "\n",
    "# query variations\n",
    "category_list = [\"General Knowledge\", \"Lifestyle advice\", \"Creative Writing\", \"Definitions\", \"Explanations\", \"Comparison\", \"Step-by-step instructions\", \"Writing feedback\", \"Venting\", \"code generation\"]\n",
    "seed_list = [\"cooking\", \"fitness\", \"business\", \"education\", \"hobbies\",]\n",
    "difficulty_list = [\"beginner level\", \"intermediate level\"]\n",
    "typos_list = [\"\", \"Please include formatting errors and typos.\"]\n",
    "\n",
    "                 \n",
    "# write instructions for generating queries\n",
    "no_tool_instructions = \"You are a query generator. Given an input category and additionl guidance, you create one simple, human-like query that can be easily solved without the use of any tools\"\n",
    "\n",
    "# user prompt template\n",
    "user_prompt_template = lambda category, seed, difficulty, typo : f\"Category: {category} \\nSeed: {seed} \\nDifficulty: {difficulty} \\n{typo}\""
   ]
  },
  {
   "cell_type": "code",
   "execution_count": 4,
   "id": "1d555b97-ff6b-4965-b0ff-10ffb7a6ab0a",
   "metadata": {},
   "outputs": [
    {
     "name": "stdout",
     "output_type": "stream",
     "text": [
      "CPU times: user 1.01 s, sys: 134 ms, total: 1.14 s\n",
      "Wall time: 2min 38s\n"
     ]
    }
   ],
   "source": [
    "%%time\n",
    "# number of queries to generate per call\n",
    "num_queries = int(N/(len(category_list) * len(typos_list) * len(difficulty_list) * len(seed_list)))\n",
    "\n",
    "for category in category_list:\n",
    "    for typo in typos_list:\n",
    "        for difficulty in difficulty_list:\n",
    "            for seed in seed_list:\n",
    "                # generate no tool queries\n",
    "                user_message = user_prompt_template(category, seed, difficulty, typo)\n",
    "                query_list = send_openai_request(no_tool_instructions, user_message, n=num_queries, temperature=1)\n",
    "        \n",
    "                # extend add queries to query_dict\n",
    "                query_dict['query'] = query_dict['query'] + query_list\n",
    "                query_dict['query_type'] = query_dict['query_type'] + (['no_tool'] * num_queries)\n",
    "                query_dict['tool_needed'] = query_dict['tool_needed'] + ([False] * num_queries)\n",
    "                query_dict['tool_name'] = query_dict['tool_name'] + ([None] * num_queries)"
   ]
  },
  {
   "cell_type": "markdown",
   "id": "09aa45f6-73ea-4bd1-8498-9f63e786b540",
   "metadata": {},
   "source": [
    "### Tool Queries\n",
    "\n",
    "\"Easy\" (in this project) means the query is simple enough for model to immediately call tool (but a tool call is needed) <br>\n",
    "\"Hard\" (in this project) means the query is requires a little thinking and a tool call to resolve"
   ]
  },
  {
   "cell_type": "code",
   "execution_count": 5,
   "id": "ce8011c6-1062-4281-8927-55a2ce16fd2e",
   "metadata": {},
   "outputs": [
    {
     "name": "stdout",
     "output_type": "stream",
     "text": [
      "Name: calculator\n",
      "Description: Perform basic arithmetic calculations.\n",
      "Parameters:\n",
      "  expression: string - Arithmetic expression to evaluate.\n"
     ]
    }
   ],
   "source": [
    "tool_metadata_list = load_tool_metadata()\n",
    "print(tool_metadata_list[0])"
   ]
  },
  {
   "cell_type": "code",
   "execution_count": 6,
   "id": "20220455-b85c-4a1f-a493-7df13e4a2c19",
   "metadata": {},
   "outputs": [
    {
     "name": "stdout",
     "output_type": "stream",
     "text": [
      "CPU times: user 427 ms, sys: 44.5 ms, total: 471 ms\n",
      "Wall time: 1min 19s\n"
     ]
    }
   ],
   "source": [
    "%%time\n",
    "# num queries to generate\n",
    "num_queries = 5\n",
    "\n",
    "# write instructions for generating easy and hard queries\n",
    "easy_instructions = 'Generate a simple, human-like query that can only be resolved using the tool described by the user.'\n",
    "hard_instructions = 'Generate a simple, human-like query that can only be resolved using the tool described by the user and a little thinking. Please include formatting errors and typos.'\n",
    "\n",
    "for tool_metadata in tool_metadata_list:\n",
    "    # easy queries\n",
    "    easy_query_list = send_openai_request(easy_instructions, tool_metadata, n=num_queries, temperature=1)\n",
    "\n",
    "    # hard queries\n",
    "    hard_query_list = send_openai_request(hard_instructions, tool_metadata, n=num_queries, temperature=1)\n",
    "\n",
    "    # extend add queries to query_dict\n",
    "    query_dict['query'] = query_dict['query'] + easy_query_list + hard_query_list\n",
    "    query_dict['query_type'] = query_dict['query_type'] + (['easy'] * num_queries) + (['hard'] * num_queries)\n",
    "    query_dict['tool_needed'] = query_dict['tool_needed'] + [True] * (2*num_queries)\n",
    "    query_dict['tool_name'] = query_dict['tool_name'] + [get_tool_name(tool_metadata)] * (2*num_queries)"
   ]
  },
  {
   "cell_type": "code",
   "execution_count": 7,
   "id": "764b0d78-2f66-46b4-80b1-46b261a45c2a",
   "metadata": {},
   "outputs": [
    {
     "name": "stdout",
     "output_type": "stream",
     "text": [
      "600\n",
      "600\n",
      "600\n",
      "600\n"
     ]
    }
   ],
   "source": [
    "print(len(query_dict['query']))\n",
    "print(len(query_dict['query_type']))\n",
    "print(len(query_dict['tool_needed']))\n",
    "print(len(query_dict['tool_name']))"
   ]
  },
  {
   "cell_type": "markdown",
   "id": "e0bef8ef-42e6-45c9-9fd3-b1d50ec1cdcb",
   "metadata": {},
   "source": [
    "### write data to .csv"
   ]
  },
  {
   "cell_type": "code",
   "execution_count": 8,
   "id": "8e277543-a775-4249-9c8c-3976fd7ccdc1",
   "metadata": {},
   "outputs": [],
   "source": [
    "# Convert query_dict to DataFrame\n",
    "df = pd.DataFrame(query_dict)\n",
    "\n",
    "# Write to CSV file\n",
    "csv_path = 'data/queries.csv'\n",
    "df.to_csv(csv_path, index=False)"
   ]
  }
 ],
 "metadata": {
  "kernelspec": {
   "display_name": ".venv",
   "language": "python",
   "name": "python3"
  },
  "language_info": {
   "codemirror_mode": {
    "name": "ipython",
    "version": 3
   },
   "file_extension": ".py",
   "mimetype": "text/x-python",
   "name": "python",
   "nbconvert_exporter": "python",
   "pygments_lexer": "ipython3",
   "version": "3.13.7"
  }
 },
 "nbformat": 4,
 "nbformat_minor": 5
}
